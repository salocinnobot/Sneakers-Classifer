{
 "cells": [
  {
   "cell_type": "markdown",
   "metadata": {},
   "source": [
    "# Sneaker Identifier\n",
    "\n",
    "1. [Library Imports](#library-imports)\n",
    "2. [Data Processing](#data-processing)\n",
    "    1. [Data Processing](#data-reading): Data Reading\n",
    "    2. [Data Processing](#data-cleaning): Data Cleaning\n",
    "    3. [Data Processing](#data-upload): Data Upload\n",
    "3. [Data Analysis](#data-analysis)\n",
    "    1. [Data Analysis](#dataset-analysis): Dataset Analysis\n",
    "    2. [Data Analysis](#dataset-analysis): Image Analysis"
   ]
  },
  {
   "cell_type": "markdown",
   "metadata": {},
   "source": [
    "## Library Imports"
   ]
  },
  {
   "cell_type": "code",
   "execution_count": 51,
   "metadata": {},
   "outputs": [],
   "source": [
    "## General Imports\n",
    "import requests\n",
    "import json\n",
    "import pandas as pd\n",
    "import time\n",
    "import numpy as np\n",
    "import os\n",
    "\n",
    "## Module Imports\n",
    "import src.sample as main\n",
    "import src.extract_images as ei\n",
    "\n",
    "## Image Manipulation\n",
    "import urllib\n",
    "from PIL import Image\n",
    "import matplotlib.pyplot as plt\n",
    "\n",
    "## MongoDB\n",
    "from pymongo import MongoClient\n",
    "import pickle\n",
    "import bson\n",
    "import io\n",
    "\n",
    "\n",
    "## Data Retrieval Imports\n",
    "import selenium\n",
    "from selenium import webdriver\n",
    "from selenium.webdriver.chrome.service import Service\n",
    "from selenium.webdriver.common.by import By\n",
    "from selenium.webdriver.support.ui import WebDriverWait\n",
    "from selenium.webdriver.support import expected_conditions as EC"
   ]
  },
  {
   "cell_type": "code",
   "execution_count": null,
   "metadata": {},
   "outputs": [],
   "source": [
    "def make_request(url, headers):\n",
    "    try: \n",
    "        url = 'https://graphql.stadiumgoods.com/graphql'\n",
    "        headers = {'User-Agent': 'Mozilla/5.0 (Macintosh; Intel Mac OS X 10_15_2) AppleWebKit/605.1.15 (KHTML, like Gecko) Version/13.0.4 Safari/605.1.15',\n",
    "                   'Content-Type': 'application/json'\n",
    "                }\n",
    "        body = '{\"operationId\":\"sg-front/cached-a41eba558ae6325f072164477a24d3c2\",\"variables\":{\"categorySlug\":\"\",\"initialSearchQuery\":\"'+shoe.styleID+'\",\"initialSort\":\"RELEVANCE\",\"includeUnavailableProducts\":null,\"filteringOnCategory\":false,\"filteringOnBrand\":false,\"filteringOnMensSizes\":false,\"filteringOnKidsSizes\":false,\"filteringOnWomensSizes\":false,\"filteringOnApparelSizes\":false,\"filteringOnGender\":false,\"filteringOnColor\":false,\"filteringOnPriceRange\":false},\"locale\":\"USA_USD\"}',\n",
    "        http2 = True,\n",
    "        responseType = 'json'\n",
    "\n",
    "        requests.post(url, headers=headers)\n",
    "    except Exception as e:\n",
    "        print(e.message, e.args)\n"
   ]
  },
  {
   "cell_type": "markdown",
   "metadata": {},
   "source": [
    "## Data Processing"
   ]
  },
  {
   "cell_type": "markdown",
   "metadata": {},
   "source": [
    "### Data Reading"
   ]
  },
  {
   "cell_type": "code",
   "execution_count": 13,
   "metadata": {},
   "outputs": [],
   "source": [
    "folder = os.path.abspath(os.curdir)\n",
    "file = os.path.join(folder, \"sneaker_json.json\")"
   ]
  },
  {
   "cell_type": "code",
   "execution_count": 14,
   "metadata": {},
   "outputs": [],
   "source": [
    "with open(file, \"rb\") as read:\n",
    "    sneaker_json = json.load(read)"
   ]
  },
  {
   "cell_type": "code",
   "execution_count": 15,
   "metadata": {},
   "outputs": [
    {
     "data": {
      "text/html": [
       "<div>\n",
       "<style scoped>\n",
       "    .dataframe tbody tr th:only-of-type {\n",
       "        vertical-align: middle;\n",
       "    }\n",
       "\n",
       "    .dataframe tbody tr th {\n",
       "        vertical-align: top;\n",
       "    }\n",
       "\n",
       "    .dataframe thead th {\n",
       "        text-align: right;\n",
       "    }\n",
       "</style>\n",
       "<table border=\"1\" class=\"dataframe\">\n",
       "  <thead>\n",
       "    <tr style=\"text-align: right;\">\n",
       "      <th></th>\n",
       "      <th>lowestResellPrice</th>\n",
       "      <th>imageLinks</th>\n",
       "      <th>_id</th>\n",
       "      <th>shoeName</th>\n",
       "      <th>brand</th>\n",
       "      <th>silhoutte</th>\n",
       "      <th>styleID</th>\n",
       "      <th>make</th>\n",
       "      <th>colorway</th>\n",
       "      <th>retailPrice</th>\n",
       "      <th>thumbnail</th>\n",
       "      <th>releaseDate</th>\n",
       "      <th>description</th>\n",
       "      <th>category</th>\n",
       "      <th>urlKey</th>\n",
       "      <th>resellLinks</th>\n",
       "      <th>goatProductId</th>\n",
       "    </tr>\n",
       "  </thead>\n",
       "  <tbody>\n",
       "    <tr>\n",
       "      <th>0</th>\n",
       "      <td>{'stockX': 269, 'flightClub': 311, 'goat': 264}</td>\n",
       "      <td>[]</td>\n",
       "      <td>633e29973c601366c28498eb</td>\n",
       "      <td>Jordan 4 Retro SE Black Canvas</td>\n",
       "      <td>Jordan</td>\n",
       "      <td>Jordan 4 Retro SE</td>\n",
       "      <td>DH7138-006</td>\n",
       "      <td>Jordan 4 Retro SE</td>\n",
       "      <td>Black/Light Steel Grey/White/Fire Red</td>\n",
       "      <td>210.0</td>\n",
       "      <td>https://images.stockx.com/images/Air-Jordan-4-...</td>\n",
       "      <td>2022-10-05</td>\n",
       "      <td>The Air Jordan 4 Retro 'Black Canvas' blends a...</td>\n",
       "      <td>sneakers</td>\n",
       "      <td>air-jordan-4-retro-se-black-canvas</td>\n",
       "      <td>{'stockX': 'https://stockx.com/air-jordan-4-re...</td>\n",
       "      <td>933532.0</td>\n",
       "    </tr>\n",
       "    <tr>\n",
       "      <th>1</th>\n",
       "      <td>{'stockX': 99, 'flightClub': 106, 'goat': 106}</td>\n",
       "      <td>[]</td>\n",
       "      <td>633e29973c601366c28498ec</td>\n",
       "      <td>NikeCraft General Purpose Shoe Tom Sachs Archi...</td>\n",
       "      <td>Nike</td>\n",
       "      <td>NikeCraft General Purpose Shoe</td>\n",
       "      <td>DA6672-700</td>\n",
       "      <td>NikeCraft General Purpose Shoe</td>\n",
       "      <td>Dark Sulfur/White-Light Cream</td>\n",
       "      <td>110.0</td>\n",
       "      <td>https://images.stockx.com/images/NikeCraft-Gen...</td>\n",
       "      <td>2022-09-02</td>\n",
       "      <td>Tom Sachs works with Nike again on a new model...</td>\n",
       "      <td>sneakers</td>\n",
       "      <td>nikecraft-general-purpose-shoe-tom-sachs-yellow</td>\n",
       "      <td>{'stockX': 'https://stockx.com/nikecraft-gener...</td>\n",
       "      <td>981386.0</td>\n",
       "    </tr>\n",
       "    <tr>\n",
       "      <th>2</th>\n",
       "      <td>{'stockX': 190, 'flightClub': 204, 'goat': 187}</td>\n",
       "      <td>[]</td>\n",
       "      <td>633e29973c601366c28498ed</td>\n",
       "      <td>Jordan 3 Retro Fire Red (2022)</td>\n",
       "      <td>Jordan</td>\n",
       "      <td>Jordan 3 Retro</td>\n",
       "      <td>DN3707-160</td>\n",
       "      <td>Jordan 3 Retro</td>\n",
       "      <td>White/Fire Red/Cement Grey/Black</td>\n",
       "      <td>210.0</td>\n",
       "      <td>https://images.stockx.com/images/Air-Jordan-3-...</td>\n",
       "      <td>2022-09-10</td>\n",
       "      <td>The Air Jordan 3 Retro 'Fire Red' sees one of ...</td>\n",
       "      <td>sneakers</td>\n",
       "      <td>air-jordan-3-retro-fire-red-2022</td>\n",
       "      <td>{'stockX': 'https://stockx.com/air-jordan-3-re...</td>\n",
       "      <td>942086.0</td>\n",
       "    </tr>\n",
       "    <tr>\n",
       "      <th>3</th>\n",
       "      <td>{'stockX': 140, 'flightClub': 154, 'goat': 154}</td>\n",
       "      <td>[]</td>\n",
       "      <td>633e29973c601366c28498ee</td>\n",
       "      <td>Jordan 1 Retro Low OG Black Dark Powder Blue</td>\n",
       "      <td>Jordan</td>\n",
       "      <td>Jordan 1 Retro Low OG</td>\n",
       "      <td>CZ0790-104</td>\n",
       "      <td>Jordan 1 Retro Low OG</td>\n",
       "      <td>White/Dark Powder Blue/Black</td>\n",
       "      <td>130.0</td>\n",
       "      <td>https://images.stockx.com/images/Air-Jordan-1-...</td>\n",
       "      <td>2022-07-29</td>\n",
       "      <td>Paying homage to Michael Jordan's alma mater, ...</td>\n",
       "      <td>sneakers</td>\n",
       "      <td>air-jordan-1-retro-low-og-unc</td>\n",
       "      <td>{'stockX': 'https://stockx.com/air-jordan-1-re...</td>\n",
       "      <td>941118.0</td>\n",
       "    </tr>\n",
       "    <tr>\n",
       "      <th>4</th>\n",
       "      <td>{'stockX': 101, 'flightClub': 101, 'goat': 97}</td>\n",
       "      <td>[]</td>\n",
       "      <td>633e29973c601366c28498ef</td>\n",
       "      <td>Crocs Pollex Clog by Salehe Bembury Tide</td>\n",
       "      <td>Crocs</td>\n",
       "      <td>Crocs Pollex Clog</td>\n",
       "      <td>207393-4ST</td>\n",
       "      <td>Crocs Pollex Clog</td>\n",
       "      <td>Turquoise Tonic</td>\n",
       "      <td>85.0</td>\n",
       "      <td>https://images.stockx.com/images/Crocs-Pollex-...</td>\n",
       "      <td>2022-09-22</td>\n",
       "      <td></td>\n",
       "      <td>sneakers</td>\n",
       "      <td>crocs-pollex-clog-by-salehe-bembury-tide</td>\n",
       "      <td>{'stockX': 'https://stockx.com/crocs-pollex-cl...</td>\n",
       "      <td>952231.0</td>\n",
       "    </tr>\n",
       "  </tbody>\n",
       "</table>\n",
       "</div>"
      ],
      "text/plain": [
       "                                 lowestResellPrice imageLinks  \\\n",
       "0  {'stockX': 269, 'flightClub': 311, 'goat': 264}         []   \n",
       "1   {'stockX': 99, 'flightClub': 106, 'goat': 106}         []   \n",
       "2  {'stockX': 190, 'flightClub': 204, 'goat': 187}         []   \n",
       "3  {'stockX': 140, 'flightClub': 154, 'goat': 154}         []   \n",
       "4   {'stockX': 101, 'flightClub': 101, 'goat': 97}         []   \n",
       "\n",
       "                        _id  \\\n",
       "0  633e29973c601366c28498eb   \n",
       "1  633e29973c601366c28498ec   \n",
       "2  633e29973c601366c28498ed   \n",
       "3  633e29973c601366c28498ee   \n",
       "4  633e29973c601366c28498ef   \n",
       "\n",
       "                                            shoeName   brand  \\\n",
       "0                     Jordan 4 Retro SE Black Canvas  Jordan   \n",
       "1  NikeCraft General Purpose Shoe Tom Sachs Archi...    Nike   \n",
       "2                     Jordan 3 Retro Fire Red (2022)  Jordan   \n",
       "3       Jordan 1 Retro Low OG Black Dark Powder Blue  Jordan   \n",
       "4           Crocs Pollex Clog by Salehe Bembury Tide   Crocs   \n",
       "\n",
       "                        silhoutte     styleID                            make  \\\n",
       "0               Jordan 4 Retro SE  DH7138-006               Jordan 4 Retro SE   \n",
       "1  NikeCraft General Purpose Shoe  DA6672-700  NikeCraft General Purpose Shoe   \n",
       "2                  Jordan 3 Retro  DN3707-160                  Jordan 3 Retro   \n",
       "3           Jordan 1 Retro Low OG  CZ0790-104           Jordan 1 Retro Low OG   \n",
       "4               Crocs Pollex Clog  207393-4ST               Crocs Pollex Clog   \n",
       "\n",
       "                                colorway  retailPrice  \\\n",
       "0  Black/Light Steel Grey/White/Fire Red        210.0   \n",
       "1          Dark Sulfur/White-Light Cream        110.0   \n",
       "2       White/Fire Red/Cement Grey/Black        210.0   \n",
       "3           White/Dark Powder Blue/Black        130.0   \n",
       "4                        Turquoise Tonic         85.0   \n",
       "\n",
       "                                           thumbnail releaseDate  \\\n",
       "0  https://images.stockx.com/images/Air-Jordan-4-...  2022-10-05   \n",
       "1  https://images.stockx.com/images/NikeCraft-Gen...  2022-09-02   \n",
       "2  https://images.stockx.com/images/Air-Jordan-3-...  2022-09-10   \n",
       "3  https://images.stockx.com/images/Air-Jordan-1-...  2022-07-29   \n",
       "4  https://images.stockx.com/images/Crocs-Pollex-...  2022-09-22   \n",
       "\n",
       "                                         description  category  \\\n",
       "0  The Air Jordan 4 Retro 'Black Canvas' blends a...  sneakers   \n",
       "1  Tom Sachs works with Nike again on a new model...  sneakers   \n",
       "2  The Air Jordan 3 Retro 'Fire Red' sees one of ...  sneakers   \n",
       "3  Paying homage to Michael Jordan's alma mater, ...  sneakers   \n",
       "4                                                     sneakers   \n",
       "\n",
       "                                            urlKey  \\\n",
       "0               air-jordan-4-retro-se-black-canvas   \n",
       "1  nikecraft-general-purpose-shoe-tom-sachs-yellow   \n",
       "2                 air-jordan-3-retro-fire-red-2022   \n",
       "3                    air-jordan-1-retro-low-og-unc   \n",
       "4         crocs-pollex-clog-by-salehe-bembury-tide   \n",
       "\n",
       "                                         resellLinks  goatProductId  \n",
       "0  {'stockX': 'https://stockx.com/air-jordan-4-re...       933532.0  \n",
       "1  {'stockX': 'https://stockx.com/nikecraft-gener...       981386.0  \n",
       "2  {'stockX': 'https://stockx.com/air-jordan-3-re...       942086.0  \n",
       "3  {'stockX': 'https://stockx.com/air-jordan-1-re...       941118.0  \n",
       "4  {'stockX': 'https://stockx.com/crocs-pollex-cl...       952231.0  "
      ]
     },
     "execution_count": 15,
     "metadata": {},
     "output_type": "execute_result"
    }
   ],
   "source": [
    "sneaker_df = pd.read_json(file)\n",
    "sneaker_df.head()"
   ]
  },
  {
   "cell_type": "markdown",
   "metadata": {},
   "source": [
    "### Data Cleaning"
   ]
  },
  {
   "cell_type": "code",
   "execution_count": 16,
   "metadata": {},
   "outputs": [],
   "source": [
    "## Let's find any sneakers re-sale items that are not specifically sneakers, and filter them out\n",
    "\n",
    "sneaker_df = sneaker_df[sneaker_df['category'] == 'sneakers'] "
   ]
  },
  {
   "cell_type": "code",
   "execution_count": 17,
   "metadata": {},
   "outputs": [],
   "source": [
    "## Let's see what columns we can use as unique identifier\n",
    "\n",
    "def count_unique(df):\n",
    "\n",
    "    unique_dict = {}\n",
    "\n",
    "    for col in df.columns:\n",
    "        vals = df[col].value_counts()\n",
    "        is_unique = all(vals == 1)\n",
    "        if (is_unique == True): \n",
    "            #print(is_unique)\n",
    "            unique_dict[col] = is_unique\n",
    "            #print(f\"{col}: Is a valid unique_identifier\") \n",
    "        else: \n",
    "            unique_dict[col] = is_unique\n",
    "            #print(f\"{col}: Not a valid unique_identifier\")\n",
    "\n",
    "    return  pd.DataFrame.from_dict(unique_dict, orient = 'index', columns = [\"is_unique\"])\n"
   ]
  },
  {
   "cell_type": "code",
   "execution_count": 18,
   "metadata": {},
   "outputs": [
    {
     "name": "stdout",
     "output_type": "stream",
     "text": [
      "                   is_unique\n",
      "lowestResellPrice      False\n",
      "imageLinks             False\n",
      "_id                     True\n",
      "shoeName                True\n",
      "brand                  False\n",
      "silhoutte              False\n",
      "styleID                False\n",
      "make                   False\n",
      "colorway               False\n",
      "retailPrice            False\n",
      "thumbnail               True\n",
      "releaseDate            False\n",
      "description            False\n",
      "category               False\n",
      "urlKey                  True\n",
      "resellLinks             True\n",
      "goatProductId           True\n"
     ]
    }
   ],
   "source": [
    "unique_cols = count_unique(sneaker_df)\n",
    "print(unique_cols)"
   ]
  },
  {
   "cell_type": "code",
   "execution_count": 19,
   "metadata": {},
   "outputs": [
    {
     "data": {
      "text/plain": [
       "array(['_id', 'shoeName', 'thumbnail', 'urlKey', 'resellLinks',\n",
       "       'goatProductId'], dtype=object)"
      ]
     },
     "execution_count": 19,
     "metadata": {},
     "output_type": "execute_result"
    }
   ],
   "source": [
    "unique_cols[unique_cols[\"is_unique\"] == True].index.values"
   ]
  },
  {
   "cell_type": "code",
   "execution_count": 20,
   "metadata": {},
   "outputs": [
    {
     "data": {
      "text/html": [
       "<div>\n",
       "<style scoped>\n",
       "    .dataframe tbody tr th:only-of-type {\n",
       "        vertical-align: middle;\n",
       "    }\n",
       "\n",
       "    .dataframe tbody tr th {\n",
       "        vertical-align: top;\n",
       "    }\n",
       "\n",
       "    .dataframe thead th {\n",
       "        text-align: right;\n",
       "    }\n",
       "</style>\n",
       "<table border=\"1\" class=\"dataframe\">\n",
       "  <thead>\n",
       "    <tr style=\"text-align: right;\">\n",
       "      <th></th>\n",
       "      <th>lowestResellPrice</th>\n",
       "      <th>imageLinks</th>\n",
       "      <th>_id</th>\n",
       "      <th>shoeName</th>\n",
       "      <th>brand</th>\n",
       "      <th>silhoutte</th>\n",
       "      <th>styleID</th>\n",
       "      <th>make</th>\n",
       "      <th>colorway</th>\n",
       "      <th>retailPrice</th>\n",
       "      <th>thumbnail</th>\n",
       "      <th>releaseDate</th>\n",
       "      <th>description</th>\n",
       "      <th>category</th>\n",
       "      <th>urlKey</th>\n",
       "      <th>resellLinks</th>\n",
       "      <th>goatProductId</th>\n",
       "    </tr>\n",
       "  </thead>\n",
       "  <tbody>\n",
       "    <tr>\n",
       "      <th>0</th>\n",
       "      <td>{'stockX': 269, 'flightClub': 311, 'goat': 264}</td>\n",
       "      <td>[]</td>\n",
       "      <td>633e29973c601366c28498eb</td>\n",
       "      <td>Jordan 4 Retro SE Black Canvas</td>\n",
       "      <td>Jordan</td>\n",
       "      <td>Jordan 4 Retro SE</td>\n",
       "      <td>DH7138-006</td>\n",
       "      <td>Jordan 4 Retro SE</td>\n",
       "      <td>Black/Light Steel Grey/White/Fire Red</td>\n",
       "      <td>210.0</td>\n",
       "      <td>https://images.stockx.com/images/Air-Jordan-4-...</td>\n",
       "      <td>2022-10-05</td>\n",
       "      <td>The Air Jordan 4 Retro 'Black Canvas' blends a...</td>\n",
       "      <td>sneakers</td>\n",
       "      <td>air-jordan-4-retro-se-black-canvas</td>\n",
       "      <td>{'stockX': 'https://stockx.com/air-jordan-4-re...</td>\n",
       "      <td>933532.0</td>\n",
       "    </tr>\n",
       "    <tr>\n",
       "      <th>1</th>\n",
       "      <td>{'stockX': 99, 'flightClub': 106, 'goat': 106}</td>\n",
       "      <td>[]</td>\n",
       "      <td>633e29973c601366c28498ec</td>\n",
       "      <td>NikeCraft General Purpose Shoe Tom Sachs Archi...</td>\n",
       "      <td>Nike</td>\n",
       "      <td>NikeCraft General Purpose Shoe</td>\n",
       "      <td>DA6672-700</td>\n",
       "      <td>NikeCraft General Purpose Shoe</td>\n",
       "      <td>Dark Sulfur/White-Light Cream</td>\n",
       "      <td>110.0</td>\n",
       "      <td>https://images.stockx.com/images/NikeCraft-Gen...</td>\n",
       "      <td>2022-09-02</td>\n",
       "      <td>Tom Sachs works with Nike again on a new model...</td>\n",
       "      <td>sneakers</td>\n",
       "      <td>nikecraft-general-purpose-shoe-tom-sachs-yellow</td>\n",
       "      <td>{'stockX': 'https://stockx.com/nikecraft-gener...</td>\n",
       "      <td>981386.0</td>\n",
       "    </tr>\n",
       "    <tr>\n",
       "      <th>2</th>\n",
       "      <td>{'stockX': 190, 'flightClub': 204, 'goat': 187}</td>\n",
       "      <td>[]</td>\n",
       "      <td>633e29973c601366c28498ed</td>\n",
       "      <td>Jordan 3 Retro Fire Red (2022)</td>\n",
       "      <td>Jordan</td>\n",
       "      <td>Jordan 3 Retro</td>\n",
       "      <td>DN3707-160</td>\n",
       "      <td>Jordan 3 Retro</td>\n",
       "      <td>White/Fire Red/Cement Grey/Black</td>\n",
       "      <td>210.0</td>\n",
       "      <td>https://images.stockx.com/images/Air-Jordan-3-...</td>\n",
       "      <td>2022-09-10</td>\n",
       "      <td>The Air Jordan 3 Retro 'Fire Red' sees one of ...</td>\n",
       "      <td>sneakers</td>\n",
       "      <td>air-jordan-3-retro-fire-red-2022</td>\n",
       "      <td>{'stockX': 'https://stockx.com/air-jordan-3-re...</td>\n",
       "      <td>942086.0</td>\n",
       "    </tr>\n",
       "    <tr>\n",
       "      <th>3</th>\n",
       "      <td>{'stockX': 140, 'flightClub': 154, 'goat': 154}</td>\n",
       "      <td>[]</td>\n",
       "      <td>633e29973c601366c28498ee</td>\n",
       "      <td>Jordan 1 Retro Low OG Black Dark Powder Blue</td>\n",
       "      <td>Jordan</td>\n",
       "      <td>Jordan 1 Retro Low OG</td>\n",
       "      <td>CZ0790-104</td>\n",
       "      <td>Jordan 1 Retro Low OG</td>\n",
       "      <td>White/Dark Powder Blue/Black</td>\n",
       "      <td>130.0</td>\n",
       "      <td>https://images.stockx.com/images/Air-Jordan-1-...</td>\n",
       "      <td>2022-07-29</td>\n",
       "      <td>Paying homage to Michael Jordan's alma mater, ...</td>\n",
       "      <td>sneakers</td>\n",
       "      <td>air-jordan-1-retro-low-og-unc</td>\n",
       "      <td>{'stockX': 'https://stockx.com/air-jordan-1-re...</td>\n",
       "      <td>941118.0</td>\n",
       "    </tr>\n",
       "    <tr>\n",
       "      <th>4</th>\n",
       "      <td>{'stockX': 101, 'flightClub': 101, 'goat': 97}</td>\n",
       "      <td>[]</td>\n",
       "      <td>633e29973c601366c28498ef</td>\n",
       "      <td>Crocs Pollex Clog by Salehe Bembury Tide</td>\n",
       "      <td>Crocs</td>\n",
       "      <td>Crocs Pollex Clog</td>\n",
       "      <td>207393-4ST</td>\n",
       "      <td>Crocs Pollex Clog</td>\n",
       "      <td>Turquoise Tonic</td>\n",
       "      <td>85.0</td>\n",
       "      <td>https://images.stockx.com/images/Crocs-Pollex-...</td>\n",
       "      <td>2022-09-22</td>\n",
       "      <td></td>\n",
       "      <td>sneakers</td>\n",
       "      <td>crocs-pollex-clog-by-salehe-bembury-tide</td>\n",
       "      <td>{'stockX': 'https://stockx.com/crocs-pollex-cl...</td>\n",
       "      <td>952231.0</td>\n",
       "    </tr>\n",
       "  </tbody>\n",
       "</table>\n",
       "</div>"
      ],
      "text/plain": [
       "                                 lowestResellPrice imageLinks  \\\n",
       "0  {'stockX': 269, 'flightClub': 311, 'goat': 264}         []   \n",
       "1   {'stockX': 99, 'flightClub': 106, 'goat': 106}         []   \n",
       "2  {'stockX': 190, 'flightClub': 204, 'goat': 187}         []   \n",
       "3  {'stockX': 140, 'flightClub': 154, 'goat': 154}         []   \n",
       "4   {'stockX': 101, 'flightClub': 101, 'goat': 97}         []   \n",
       "\n",
       "                        _id  \\\n",
       "0  633e29973c601366c28498eb   \n",
       "1  633e29973c601366c28498ec   \n",
       "2  633e29973c601366c28498ed   \n",
       "3  633e29973c601366c28498ee   \n",
       "4  633e29973c601366c28498ef   \n",
       "\n",
       "                                            shoeName   brand  \\\n",
       "0                     Jordan 4 Retro SE Black Canvas  Jordan   \n",
       "1  NikeCraft General Purpose Shoe Tom Sachs Archi...    Nike   \n",
       "2                     Jordan 3 Retro Fire Red (2022)  Jordan   \n",
       "3       Jordan 1 Retro Low OG Black Dark Powder Blue  Jordan   \n",
       "4           Crocs Pollex Clog by Salehe Bembury Tide   Crocs   \n",
       "\n",
       "                        silhoutte     styleID                            make  \\\n",
       "0               Jordan 4 Retro SE  DH7138-006               Jordan 4 Retro SE   \n",
       "1  NikeCraft General Purpose Shoe  DA6672-700  NikeCraft General Purpose Shoe   \n",
       "2                  Jordan 3 Retro  DN3707-160                  Jordan 3 Retro   \n",
       "3           Jordan 1 Retro Low OG  CZ0790-104           Jordan 1 Retro Low OG   \n",
       "4               Crocs Pollex Clog  207393-4ST               Crocs Pollex Clog   \n",
       "\n",
       "                                colorway  retailPrice  \\\n",
       "0  Black/Light Steel Grey/White/Fire Red        210.0   \n",
       "1          Dark Sulfur/White-Light Cream        110.0   \n",
       "2       White/Fire Red/Cement Grey/Black        210.0   \n",
       "3           White/Dark Powder Blue/Black        130.0   \n",
       "4                        Turquoise Tonic         85.0   \n",
       "\n",
       "                                           thumbnail releaseDate  \\\n",
       "0  https://images.stockx.com/images/Air-Jordan-4-...  2022-10-05   \n",
       "1  https://images.stockx.com/images/NikeCraft-Gen...  2022-09-02   \n",
       "2  https://images.stockx.com/images/Air-Jordan-3-...  2022-09-10   \n",
       "3  https://images.stockx.com/images/Air-Jordan-1-...  2022-07-29   \n",
       "4  https://images.stockx.com/images/Crocs-Pollex-...  2022-09-22   \n",
       "\n",
       "                                         description  category  \\\n",
       "0  The Air Jordan 4 Retro 'Black Canvas' blends a...  sneakers   \n",
       "1  Tom Sachs works with Nike again on a new model...  sneakers   \n",
       "2  The Air Jordan 3 Retro 'Fire Red' sees one of ...  sneakers   \n",
       "3  Paying homage to Michael Jordan's alma mater, ...  sneakers   \n",
       "4                                                     sneakers   \n",
       "\n",
       "                                            urlKey  \\\n",
       "0               air-jordan-4-retro-se-black-canvas   \n",
       "1  nikecraft-general-purpose-shoe-tom-sachs-yellow   \n",
       "2                 air-jordan-3-retro-fire-red-2022   \n",
       "3                    air-jordan-1-retro-low-og-unc   \n",
       "4         crocs-pollex-clog-by-salehe-bembury-tide   \n",
       "\n",
       "                                         resellLinks  goatProductId  \n",
       "0  {'stockX': 'https://stockx.com/air-jordan-4-re...       933532.0  \n",
       "1  {'stockX': 'https://stockx.com/nikecraft-gener...       981386.0  \n",
       "2  {'stockX': 'https://stockx.com/air-jordan-3-re...       942086.0  \n",
       "3  {'stockX': 'https://stockx.com/air-jordan-1-re...       941118.0  \n",
       "4  {'stockX': 'https://stockx.com/crocs-pollex-cl...       952231.0  "
      ]
     },
     "execution_count": 20,
     "metadata": {},
     "output_type": "execute_result"
    }
   ],
   "source": [
    "sneaker_df.head()"
   ]
  },
  {
   "cell_type": "code",
   "execution_count": 21,
   "metadata": {},
   "outputs": [
    {
     "data": {
      "text/plain": [
       "Jordan 4 Retro SE Black Canvas                                  1\n",
       "NikeCraft General Purpose Shoe Tom Sachs Archive Dark Sulfur    1\n",
       "adidas Yeezy Slide Soot                                         1\n",
       "Nike Blazer Low Off-White Black Electro Green                   1\n",
       "Jordan 1 Retro High Light Smoke Grey                            1\n",
       "                                                               ..\n",
       "Jordan 1 Retro High OG Bleached Coral (GS)                      1\n",
       "Jordan 7 Retro Citrus (2022)                                    1\n",
       "Nike Air Max Penny 1 Orlando (2022)                             1\n",
       "Nike Dunk Low Disrupt 2 Panda (W)                               1\n",
       "Jordan 13 Retro Flint (2020)                                    1\n",
       "Name: shoeName, Length: 832, dtype: int64"
      ]
     },
     "execution_count": 21,
     "metadata": {},
     "output_type": "execute_result"
    }
   ],
   "source": [
    "sneaker_df['shoeName'].value_counts()"
   ]
  },
  {
   "cell_type": "code",
   "execution_count": 22,
   "metadata": {},
   "outputs": [
    {
     "name": "stdout",
     "output_type": "stream",
     "text": [
      "False\n"
     ]
    }
   ],
   "source": [
    "## We know that none of our shoeName's are NA\n",
    "print(any(sneaker_df.notna()['shoeName'] == False))\n",
    "assert(len(sneaker_df) == len(sneaker_df['shoeName']))\n",
    "\n",
    "## Let's set our dataframe index _id which is a unique _id\n",
    "sneaker_df = sneaker_df.set_index('shoeName')"
   ]
  },
  {
   "cell_type": "code",
   "execution_count": 24,
   "metadata": {},
   "outputs": [],
   "source": [
    "## We have several columns that could server as unique identifiers, although we want to find out if there's any combination of columns that\n",
    "## might produce better results\n",
    "\n",
    "unique_df = sneaker_df.filter(items = unique_cols[unique_cols[\"is_unique\"] == True].index.values, axis = 1)\n",
    "unique_df\n",
    "\n",
    "\n",
    "## We're going to take the shoe_name, silhoutte, styleId, and colorway to be our unique_query parameters\n",
    "unique_id = pd.DataFrame(sneaker_df[['silhoutte', 'colorway']].agg('-'.join, axis = 1), columns=['query'])\n",
    "\n",
    "## Let's add the query column to our sneaker's dataframe\n",
    "sneaker_df['query'] = (unique_id.index + '-' + unique_id['query']).to_list()"
   ]
  },
  {
   "cell_type": "markdown",
   "metadata": {},
   "source": [
    "### Data Upload"
   ]
  },
  {
   "cell_type": "markdown",
   "metadata": {},
   "source": [
    "#### Connecting to Database"
   ]
  },
  {
   "cell_type": "code",
   "execution_count": 52,
   "metadata": {},
   "outputs": [
    {
     "name": "stdout",
     "output_type": "stream",
     "text": [
      "{'name': 'admin', 'sizeOnDisk': 40960, 'empty': False}\n",
      "{'name': 'config', 'sizeOnDisk': 110592, 'empty': False}\n",
      "{'name': 'local', 'sizeOnDisk': 90112, 'empty': False}\n",
      "{'name': 'sneakers', 'sizeOnDisk': 1634304, 'empty': False}\n"
     ]
    }
   ],
   "source": [
    "client = main.get_database()\n",
    "for db in client.list_databases():\n",
    "    print(db)"
   ]
  },
  {
   "cell_type": "markdown",
   "metadata": {},
   "source": [
    "1) Download the version-specific web browser driver (for Chrome: https://chromedriver.chromium.org/downloads)\n",
    "2) Un-zip the file\n",
    "3) Create a Service-type variable (parameters: driver path)\n",
    "4) Create a Chrome webdriver with your service\n",
    "5) Run the cell, and your browser will open\n",
    "\n",
    "**-------------Important-------------**\n",
    "- \"chromedriver\" cannot be verified: \n",
    "    - Type into your terminal: xattr -d com.apple.quarantine <path-of-chromedriver-executable>"
   ]
  },
  {
   "cell_type": "code",
   "execution_count": 55,
   "metadata": {},
   "outputs": [],
   "source": [
    "## Specify the driver path\n",
    "driver_path = '/Users/nicolastobon/Library/Mobile Documents/com~apple~CloudDocs/Data Projects/Sneakers-Classifier/chromedriver'\n",
    "driver = ei.select_driver(driver_path)"
   ]
  },
  {
   "cell_type": "markdown",
   "metadata": {},
   "source": [
    "Google Search Tips: \n",
    "\n",
    "**Enclose your keywords within quotes and Google will do an exact phrase search.**\n",
    "- Use case\n",
    "    - Find classes or training on direct sales. It can be any type of training or class, but it must contain “direct sales”.\n",
    "- Syntax\n",
    "    - \"[keyword 1] [keyword 2]\" [keyword 3]\n",
    "- Example\n",
    "    - \"direct sales\" training"
   ]
  },
  {
   "cell_type": "markdown",
   "metadata": {},
   "source": [
    "#### Extracting Images"
   ]
  },
  {
   "cell_type": "code",
   "execution_count": 50,
   "metadata": {},
   "outputs": [
    {
     "ename": "NameError",
     "evalue": "name 'ei' is not defined",
     "output_type": "error",
     "traceback": [
      "\u001b[0;31m---------------------------------------------------------------------------\u001b[0m",
      "\u001b[0;31mNameError\u001b[0m                                 Traceback (most recent call last)",
      "Cell \u001b[0;32mIn [50], line 3\u001b[0m\n\u001b[1;32m      1\u001b[0m \u001b[38;5;66;03m##Use a test query\u001b[39;00m\n\u001b[1;32m      2\u001b[0m query \u001b[38;5;241m=\u001b[39m \u001b[38;5;124m'\u001b[39m\u001b[38;5;124mDN3707-160-Jordan 3 Retro Fire Red (2022)-Jordan 3 Retro-White/Fire Red/Cement Grey/Black\u001b[39m\u001b[38;5;124m'\u001b[39m\n\u001b[0;32m----> 3\u001b[0m image_links \u001b[38;5;241m=\u001b[39m \u001b[43mei\u001b[49m\u001b[38;5;241m.\u001b[39mextract(query, \u001b[38;5;241m10\u001b[39m, driver, \u001b[38;5;241m1\u001b[39m)\n",
      "\u001b[0;31mNameError\u001b[0m: name 'ei' is not defined"
     ]
    }
   ],
   "source": [
    "## Use a test query\n",
    "query = 'DN3707-160-Jordan 3 Retro Fire Red (2022)-Jordan 3 Retro-White/Fire Red/Cement Grey/Black'\n",
    "image_links = ei.extract(query, 10, driver, 1)"
   ]
  },
  {
   "cell_type": "code",
   "execution_count": 97,
   "metadata": {},
   "outputs": [
    {
     "name": "stdout",
     "output_type": "stream",
     "text": [
      "(256, 256, 3)\n",
      "(256, 256, 3)\n",
      "(256, 256, 3)\n",
      "(256, 256, 3)\n",
      "(256, 256, 3)\n",
      "(256, 256, 3)\n",
      "(256, 256, 3)\n",
      "(256, 256, 3)\n"
     ]
    }
   ],
   "source": [
    "\n",
    "collection = client['sneakers']['test']\n",
    "\n",
    "def load_images(sneaker):\n",
    "    ## The collection currently has one image, and that image is stored as a dictionary. We will access the image_data by searching the query\n",
    "    for sneaker in collection.find():\n",
    "        for image in sneaker[query]:\n",
    "            np.array(Image.open(io.BytesIO(image)))\n",
    "\n",
    "## The collection currently has one image, and that image is stored as a dictionary. We will access the image_data by searching the query\n"
   ]
  },
  {
   "cell_type": "markdown",
   "metadata": {},
   "source": [
    "### Data Analysis"
   ]
  },
  {
   "cell_type": "markdown",
   "metadata": {},
   "source": [
    "### Dataset Analysis"
   ]
  },
  {
   "cell_type": "code",
   "execution_count": 96,
   "metadata": {},
   "outputs": [
    {
     "data": {
      "image/png": "[encoded data removed]",
      "text/plain": [
       "<Figure size 640x480 with 1 Axes>"
      ]
     },
     "metadata": {},
     "output_type": "display_data"
    }
   ],
   "source": [
    "## Let's visualize a look at the most relevant sneaker brands\n",
    "\n",
    "print(sneaker_df['brand'].value_counts())\n",
    "\n",
    "brands = sneaker_df['brand']\n",
    "\n",
    "fig = plt.figure()\n",
    "ax = fig.add_subplot()\n",
    "brands_bar = ax.bar(brands.value_counts().index, brands.value_counts().values)\n",
    "plt.xticks(rotation = 45, ha=\"right\")\n",
    "plt.show()"
   ]
  },
  {
   "cell_type": "markdown",
   "metadata": {},
   "source": [
    "### Image Analysis"
   ]
  },
  {
   "cell_type": "code",
   "execution_count": 6,
   "metadata": {},
   "outputs": [
    {
     "data": {
      "text/plain": [
       "'/Users/nicolastobon/Library/Mobile Documents/com~apple~CloudDocs/Data Projects/StockX API Testing/test'"
      ]
     },
     "execution_count": 6,
     "metadata": {},
     "output_type": "execute_result"
    }
   ],
   "source": [
    "test_dir = os.path.join(folder, \"test\")\n",
    "test_dir"
   ]
  },
  {
   "cell_type": "code",
   "execution_count": 40,
   "metadata": {},
   "outputs": [
    {
     "name": "stdout",
     "output_type": "stream",
     "text": [
      "JPEG\n",
      "RGB\n",
      "(1000, 1250)\n",
      "\n",
      "\n",
      "JPEG\n",
      "RGB\n",
      "(1860, 1860)\n",
      "\n",
      "\n",
      "JPEG\n",
      "RGB\n",
      "(1860, 1860)\n",
      "\n",
      "\n",
      "JPEG\n",
      "RGB\n",
      "(640, 434)\n",
      "\n",
      "\n",
      "WEBP\n",
      "RGB\n",
      "(1400, 1000)\n",
      "\n",
      "\n",
      "JPEG\n",
      "RGB\n",
      "(480, 600)\n",
      "\n",
      "\n",
      "JPEG\n",
      "RGB\n",
      "(1280, 720)\n",
      "\n",
      "\n",
      "JPEG\n",
      "RGB\n",
      "(960, 1200)\n",
      "\n",
      "\n",
      "JPEG\n",
      "RGB\n",
      "(1200, 750)\n",
      "\n",
      "\n",
      "JPEG\n",
      "RGB\n",
      "(1070, 760)\n",
      "\n",
      "\n"
     ]
    }
   ],
   "source": [
    "for file in os.listdir(test_dir):\n",
    "    image = Image.open(os.path.join(test_dir, file)) \n",
    "    print(image.format)\n",
    "    print(image.mode)\n",
    "    print(image.size)\n",
    "    print('\\n')\n",
    "    image = image.resize((256,256))\n",
    "    image.show()"
   ]
  }
 ],
 "metadata": {
  "kernelspec": {
   "display_name": "Python 3.10.5 ('env': venv)",
   "language": "python",
   "name": "python3"
  },
  "language_info": {
   "codemirror_mode": {
    "name": "ipython",
    "version": 3
   },
   "file_extension": ".py",
   "mimetype": "text/x-python",
   "name": "python",
   "nbconvert_exporter": "python",
   "pygments_lexer": "ipython3",
   "version": "3.10.5"
  },
  "orig_nbformat": 4,
  "vscode": {
   "interpreter": {
    "hash": "5c6318a7eeb2991b830ee745f8847d360107572e2954c2938afc39d54aece6e2"
   }
  }
 },
 "nbformat": 4,
 "nbformat_minor": 2
}
